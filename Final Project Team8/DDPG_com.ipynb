{
  "cells": [
    {
      "cell_type": "code",
      "execution_count": 4,
      "metadata": {
        "colab": {
          "base_uri": "https://localhost:8080/"
        },
        "id": "qPg7pyvK_Emi",
        "outputId": "534d15d2-0670-437e-c576-64938896e20b"
      },
      "outputs": [
        {
          "name": "stdout",
          "output_type": "stream",
          "text": [
            "Collecting git+https://github.com/DLR-RM/stable-baselines3\n",
            "  Cloning https://github.com/DLR-RM/stable-baselines3 to c:\\users\\ideco\\appdata\\local\\temp\\pip-req-build-89i6hh9a\n",
            "  Resolved https://github.com/DLR-RM/stable-baselines3 to commit 002850f8ace0e045f7e9d370149a6fbb6cbcebad\n",
            "  Preparing metadata (setup.py): started\n",
            "  Preparing metadata (setup.py): finished with status 'done'\n",
            "Requirement already satisfied: gym==0.21 in c:\\python39\\lib\\site-packages (from stable-baselines3==1.7.0a5) (0.21.0)\n",
            "Requirement already satisfied: numpy in c:\\python39\\lib\\site-packages (from stable-baselines3==1.7.0a5) (1.20.2)\n",
            "Requirement already satisfied: torch>=1.11 in c:\\python39\\lib\\site-packages (from stable-baselines3==1.7.0a5) (1.13.0)\n",
            "Requirement already satisfied: cloudpickle in c:\\python39\\lib\\site-packages (from stable-baselines3==1.7.0a5) (2.2.0)\n",
            "Requirement already satisfied: pandas in c:\\python39\\lib\\site-packages (from stable-baselines3==1.7.0a5) (1.2.4)\n",
            "Requirement already satisfied: matplotlib in c:\\python39\\lib\\site-packages (from stable-baselines3==1.7.0a5) (3.4.2)\n",
            "Requirement already satisfied: importlib-metadata~=4.13 in c:\\python39\\lib\\site-packages (from stable-baselines3==1.7.0a5) (4.13.0)\n",
            "Requirement already satisfied: zipp>=0.5 in c:\\python39\\lib\\site-packages (from importlib-metadata~=4.13->stable-baselines3==1.7.0a5) (3.11.0)\n",
            "Requirement already satisfied: typing-extensions in c:\\python39\\lib\\site-packages (from torch>=1.11->stable-baselines3==1.7.0a5) (4.4.0)\n",
            "Requirement already satisfied: pillow>=6.2.0 in c:\\python39\\lib\\site-packages (from matplotlib->stable-baselines3==1.7.0a5) (9.3.0)\n",
            "Requirement already satisfied: pyparsing>=2.2.1 in c:\\python39\\lib\\site-packages (from matplotlib->stable-baselines3==1.7.0a5) (2.4.7)\n",
            "Requirement already satisfied: kiwisolver>=1.0.1 in c:\\python39\\lib\\site-packages (from matplotlib->stable-baselines3==1.7.0a5) (1.3.1)\n",
            "Requirement already satisfied: cycler>=0.10 in c:\\python39\\lib\\site-packages (from matplotlib->stable-baselines3==1.7.0a5) (0.10.0)\n",
            "Requirement already satisfied: python-dateutil>=2.7 in c:\\users\\ideco\\appdata\\roaming\\python\\python39\\site-packages (from matplotlib->stable-baselines3==1.7.0a5) (2.8.2)\n",
            "Requirement already satisfied: pytz>=2017.3 in c:\\python39\\lib\\site-packages (from pandas->stable-baselines3==1.7.0a5) (2021.1)\n",
            "Requirement already satisfied: six in c:\\users\\ideco\\appdata\\roaming\\python\\python39\\site-packages (from cycler>=0.10->matplotlib->stable-baselines3==1.7.0a5) (1.15.0)\n"
          ]
        },
        {
          "name": "stderr",
          "output_type": "stream",
          "text": [
            "WARNING: Ignoring invalid distribution -illow (c:\\python39\\lib\\site-packages)\n",
            "WARNING: Ignoring invalid distribution -illow (c:\\python39\\lib\\site-packages)\n",
            "  Running command git clone --filter=blob:none --quiet https://github.com/DLR-RM/stable-baselines3 'C:\\Users\\ideco\\AppData\\Local\\Temp\\pip-req-build-89i6hh9a'\n",
            "WARNING: Ignoring invalid distribution -illow (c:\\python39\\lib\\site-packages)\n",
            "WARNING: Ignoring invalid distribution -illow (c:\\python39\\lib\\site-packages)\n",
            "WARNING: Ignoring invalid distribution -illow (c:\\python39\\lib\\site-packages)\n",
            "WARNING: Ignoring invalid distribution -illow (c:\\python39\\lib\\site-packages)\n"
          ]
        }
      ],
      "source": [
        "!pip install git+https://github.com/DLR-RM/stable-baselines3"
      ]
    },
    {
      "cell_type": "code",
      "execution_count": 6,
      "metadata": {
        "colab": {
          "base_uri": "https://localhost:8080/"
        },
        "id": "4wA6lU254uNl",
        "outputId": "e7ffe559-9aef-4877-8946-bf8f53cdc8a3"
      },
      "outputs": [
        {
          "name": "stdout",
          "output_type": "stream",
          "text": [
            "Requirement already satisfied: highway_env in c:\\python39\\lib\\site-packages (1.7)\n",
            "Requirement already satisfied: pandas in c:\\python39\\lib\\site-packages (from highway_env) (1.2.4)\n",
            "Requirement already satisfied: pygame>=2.0.2 in c:\\python39\\lib\\site-packages (from highway_env) (2.1.2)\n",
            "Requirement already satisfied: gym>=0.26 in c:\\python39\\lib\\site-packages (from highway_env) (0.26.2)\n",
            "Requirement already satisfied: matplotlib in c:\\python39\\lib\\site-packages (from highway_env) (3.4.2)\n",
            "Requirement already satisfied: scipy in c:\\python39\\lib\\site-packages (from highway_env) (1.6.3)\n",
            "Requirement already satisfied: numpy in c:\\python39\\lib\\site-packages (from highway_env) (1.20.2)\n",
            "Requirement already satisfied: cloudpickle>=1.2.0 in c:\\python39\\lib\\site-packages (from gym>=0.26->highway_env) (2.2.0)\n",
            "Requirement already satisfied: importlib-metadata>=4.8.0 in c:\\python39\\lib\\site-packages (from gym>=0.26->highway_env) (4.13.0)\n",
            "Requirement already satisfied: gym-notices>=0.0.4 in c:\\python39\\lib\\site-packages (from gym>=0.26->highway_env) (0.0.8)\n",
            "Requirement already satisfied: cycler>=0.10 in c:\\python39\\lib\\site-packages (from matplotlib->highway_env) (0.10.0)\n",
            "Requirement already satisfied: pillow>=6.2.0 in c:\\python39\\lib\\site-packages (from matplotlib->highway_env) (9.3.0)\n",
            "Requirement already satisfied: pyparsing>=2.2.1 in c:\\python39\\lib\\site-packages (from matplotlib->highway_env) (2.4.7)\n",
            "Requirement already satisfied: python-dateutil>=2.7 in c:\\users\\ideco\\appdata\\roaming\\python\\python39\\site-packages (from matplotlib->highway_env) (2.8.2)\n",
            "Requirement already satisfied: kiwisolver>=1.0.1 in c:\\python39\\lib\\site-packages (from matplotlib->highway_env) (1.3.1)\n",
            "Requirement already satisfied: pytz>=2017.3 in c:\\python39\\lib\\site-packages (from pandas->highway_env) (2021.1)\n",
            "Requirement already satisfied: six in c:\\users\\ideco\\appdata\\roaming\\python\\python39\\site-packages (from cycler>=0.10->matplotlib->highway_env) (1.15.0)\n",
            "Requirement already satisfied: zipp>=0.5 in c:\\python39\\lib\\site-packages (from importlib-metadata>=4.8.0->gym>=0.26->highway_env) (3.11.0)\n"
          ]
        },
        {
          "name": "stderr",
          "output_type": "stream",
          "text": [
            "WARNING: Ignoring invalid distribution -illow (c:\\python39\\lib\\site-packages)\n",
            "WARNING: Ignoring invalid distribution -illow (c:\\python39\\lib\\site-packages)\n",
            "WARNING: Ignoring invalid distribution -illow (c:\\python39\\lib\\site-packages)\n",
            "WARNING: Ignoring invalid distribution -illow (c:\\python39\\lib\\site-packages)\n",
            "WARNING: Ignoring invalid distribution -illow (c:\\python39\\lib\\site-packages)\n",
            "WARNING: Ignoring invalid distribution -illow (c:\\python39\\lib\\site-packages)\n"
          ]
        }
      ],
      "source": [
        "!pip install highway_env"
      ]
    },
    {
      "cell_type": "code",
      "execution_count": 7,
      "metadata": {},
      "outputs": [
        {
          "name": "stdout",
          "output_type": "stream",
          "text": [
            "Requirement already satisfied: ipywidgets in c:\\python39\\lib\\site-packages (8.0.2)\n",
            "Requirement already satisfied: ipython>=6.1.0 in c:\\users\\ideco\\appdata\\roaming\\python\\python39\\site-packages (from ipywidgets) (8.7.0)\n",
            "Requirement already satisfied: ipykernel>=4.5.1 in c:\\users\\ideco\\appdata\\roaming\\python\\python39\\site-packages (from ipywidgets) (6.17.1)\n",
            "Requirement already satisfied: traitlets>=4.3.1 in c:\\users\\ideco\\appdata\\roaming\\python\\python39\\site-packages (from ipywidgets) (5.6.0)\n",
            "Requirement already satisfied: widgetsnbextension~=4.0 in c:\\python39\\lib\\site-packages (from ipywidgets) (4.0.3)\n",
            "Requirement already satisfied: jupyterlab-widgets~=3.0 in c:\\python39\\lib\\site-packages (from ipywidgets) (3.0.3)\n",
            "Requirement already satisfied: matplotlib-inline>=0.1 in c:\\users\\ideco\\appdata\\roaming\\python\\python39\\site-packages (from ipykernel>=4.5.1->ipywidgets) (0.1.6)\n",
            "Requirement already satisfied: pyzmq>=17 in c:\\users\\ideco\\appdata\\roaming\\python\\python39\\site-packages (from ipykernel>=4.5.1->ipywidgets) (24.0.1)\n",
            "Requirement already satisfied: packaging in c:\\users\\ideco\\appdata\\roaming\\python\\python39\\site-packages (from ipykernel>=4.5.1->ipywidgets) (21.3)\n",
            "Requirement already satisfied: psutil in c:\\users\\ideco\\appdata\\roaming\\python\\python39\\site-packages (from ipykernel>=4.5.1->ipywidgets) (5.9.4)\n",
            "Requirement already satisfied: nest-asyncio in c:\\users\\ideco\\appdata\\roaming\\python\\python39\\site-packages (from ipykernel>=4.5.1->ipywidgets) (1.5.6)\n",
            "Requirement already satisfied: tornado>=6.1 in c:\\users\\ideco\\appdata\\roaming\\python\\python39\\site-packages (from ipykernel>=4.5.1->ipywidgets) (6.2)\n",
            "Requirement already satisfied: jupyter-client>=6.1.12 in c:\\users\\ideco\\appdata\\roaming\\python\\python39\\site-packages (from ipykernel>=4.5.1->ipywidgets) (7.4.7)\n",
            "Requirement already satisfied: debugpy>=1.0 in c:\\users\\ideco\\appdata\\roaming\\python\\python39\\site-packages (from ipykernel>=4.5.1->ipywidgets) (1.6.4)\n",
            "Requirement already satisfied: pygments>=2.4.0 in c:\\users\\ideco\\appdata\\roaming\\python\\python39\\site-packages (from ipython>=6.1.0->ipywidgets) (2.13.0)\n",
            "Requirement already satisfied: prompt-toolkit<3.1.0,>=3.0.11 in c:\\users\\ideco\\appdata\\roaming\\python\\python39\\site-packages (from ipython>=6.1.0->ipywidgets) (3.0.33)\n",
            "Requirement already satisfied: backcall in c:\\users\\ideco\\appdata\\roaming\\python\\python39\\site-packages (from ipython>=6.1.0->ipywidgets) (0.2.0)\n",
            "Requirement already satisfied: stack-data in c:\\users\\ideco\\appdata\\roaming\\python\\python39\\site-packages (from ipython>=6.1.0->ipywidgets) (0.6.2)\n",
            "Requirement already satisfied: pickleshare in c:\\users\\ideco\\appdata\\roaming\\python\\python39\\site-packages (from ipython>=6.1.0->ipywidgets) (0.7.5)\n",
            "Requirement already satisfied: jedi>=0.16 in c:\\users\\ideco\\appdata\\roaming\\python\\python39\\site-packages (from ipython>=6.1.0->ipywidgets) (0.18.2)\n",
            "Requirement already satisfied: colorama in c:\\users\\ideco\\appdata\\roaming\\python\\python39\\site-packages (from ipython>=6.1.0->ipywidgets) (0.4.4)\n",
            "Requirement already satisfied: decorator in c:\\python39\\lib\\site-packages (from ipython>=6.1.0->ipywidgets) (4.4.2)\n",
            "Requirement already satisfied: parso<0.9.0,>=0.8.0 in c:\\users\\ideco\\appdata\\roaming\\python\\python39\\site-packages (from jedi>=0.16->ipython>=6.1.0->ipywidgets) (0.8.3)\n",
            "Requirement already satisfied: python-dateutil>=2.8.2 in c:\\users\\ideco\\appdata\\roaming\\python\\python39\\site-packages (from jupyter-client>=6.1.12->ipykernel>=4.5.1->ipywidgets) (2.8.2)\n",
            "Requirement already satisfied: jupyter-core>=4.9.2 in c:\\users\\ideco\\appdata\\roaming\\python\\python39\\site-packages (from jupyter-client>=6.1.12->ipykernel>=4.5.1->ipywidgets) (5.1.0)\n",
            "Requirement already satisfied: entrypoints in c:\\users\\ideco\\appdata\\roaming\\python\\python39\\site-packages (from jupyter-client>=6.1.12->ipykernel>=4.5.1->ipywidgets) (0.4)\n",
            "Requirement already satisfied: wcwidth in c:\\users\\ideco\\appdata\\roaming\\python\\python39\\site-packages (from prompt-toolkit<3.1.0,>=3.0.11->ipython>=6.1.0->ipywidgets) (0.2.5)\n",
            "Requirement already satisfied: pyparsing!=3.0.5,>=2.0.2 in c:\\python39\\lib\\site-packages (from packaging->ipykernel>=4.5.1->ipywidgets) (2.4.7)\n",
            "Requirement already satisfied: executing>=1.2.0 in c:\\users\\ideco\\appdata\\roaming\\python\\python39\\site-packages (from stack-data->ipython>=6.1.0->ipywidgets) (1.2.0)\n",
            "Requirement already satisfied: pure-eval in c:\\users\\ideco\\appdata\\roaming\\python\\python39\\site-packages (from stack-data->ipython>=6.1.0->ipywidgets) (0.2.2)\n",
            "Requirement already satisfied: asttokens>=2.1.0 in c:\\users\\ideco\\appdata\\roaming\\python\\python39\\site-packages (from stack-data->ipython>=6.1.0->ipywidgets) (2.2.0)\n",
            "Requirement already satisfied: six in c:\\users\\ideco\\appdata\\roaming\\python\\python39\\site-packages (from asttokens>=2.1.0->stack-data->ipython>=6.1.0->ipywidgets) (1.15.0)\n",
            "Requirement already satisfied: platformdirs>=2.5 in c:\\users\\ideco\\appdata\\roaming\\python\\python39\\site-packages (from jupyter-core>=4.9.2->jupyter-client>=6.1.12->ipykernel>=4.5.1->ipywidgets) (2.5.4)\n",
            "Requirement already satisfied: pywin32>=1.0 in c:\\users\\ideco\\appdata\\roaming\\python\\python39\\site-packages (from jupyter-core>=4.9.2->jupyter-client>=6.1.12->ipykernel>=4.5.1->ipywidgets) (305)\n"
          ]
        },
        {
          "name": "stderr",
          "output_type": "stream",
          "text": [
            "WARNING: Ignoring invalid distribution -illow (c:\\python39\\lib\\site-packages)\n",
            "WARNING: Ignoring invalid distribution -illow (c:\\python39\\lib\\site-packages)\n",
            "WARNING: Ignoring invalid distribution -illow (c:\\python39\\lib\\site-packages)\n",
            "WARNING: Ignoring invalid distribution -illow (c:\\python39\\lib\\site-packages)\n",
            "WARNING: Ignoring invalid distribution -illow (c:\\python39\\lib\\site-packages)\n",
            "WARNING: Ignoring invalid distribution -illow (c:\\python39\\lib\\site-packages)\n"
          ]
        },
        {
          "name": "stdout",
          "output_type": "stream",
          "text": [
            "Requirement already satisfied: moviepy in c:\\python39\\lib\\site-packages (1.0.3)\n",
            "Requirement already satisfied: decorator<5.0,>=4.0.2 in c:\\python39\\lib\\site-packages (from moviepy) (4.4.2)\n",
            "Requirement already satisfied: tqdm<5.0,>=4.11.2 in c:\\python39\\lib\\site-packages (from moviepy) (4.64.1)\n",
            "Requirement already satisfied: requests<3.0,>=2.8.1 in c:\\python39\\lib\\site-packages (from moviepy) (2.28.1)\n",
            "Requirement already satisfied: proglog<=1.0.0 in c:\\python39\\lib\\site-packages (from moviepy) (0.1.10)\n",
            "Requirement already satisfied: numpy>=1.17.3 in c:\\python39\\lib\\site-packages (from moviepy) (1.20.2)\n",
            "Requirement already satisfied: imageio<3.0,>=2.5 in c:\\python39\\lib\\site-packages (from moviepy) (2.22.4)\n",
            "Requirement already satisfied: imageio_ffmpeg>=0.2.0 in c:\\python39\\lib\\site-packages (from moviepy) (0.4.7)\n",
            "Requirement already satisfied: pillow>=8.3.2 in c:\\python39\\lib\\site-packages (from imageio<3.0,>=2.5->moviepy) (9.3.0)\n",
            "Requirement already satisfied: idna<4,>=2.5 in c:\\python39\\lib\\site-packages (from requests<3.0,>=2.8.1->moviepy) (3.4)\n",
            "Requirement already satisfied: urllib3<1.27,>=1.21.1 in c:\\python39\\lib\\site-packages (from requests<3.0,>=2.8.1->moviepy) (1.26.4)\n",
            "Requirement already satisfied: certifi>=2017.4.17 in c:\\python39\\lib\\site-packages (from requests<3.0,>=2.8.1->moviepy) (2022.9.24)\n",
            "Requirement already satisfied: charset-normalizer<3,>=2 in c:\\python39\\lib\\site-packages (from requests<3.0,>=2.8.1->moviepy) (2.1.1)\n",
            "Requirement already satisfied: colorama in c:\\users\\ideco\\appdata\\roaming\\python\\python39\\site-packages (from tqdm<5.0,>=4.11.2->moviepy) (0.4.4)\n"
          ]
        },
        {
          "name": "stderr",
          "output_type": "stream",
          "text": [
            "WARNING: Ignoring invalid distribution -illow (c:\\python39\\lib\\site-packages)\n",
            "WARNING: Ignoring invalid distribution -illow (c:\\python39\\lib\\site-packages)\n",
            "WARNING: Ignoring invalid distribution -illow (c:\\python39\\lib\\site-packages)\n",
            "WARNING: Ignoring invalid distribution -illow (c:\\python39\\lib\\site-packages)\n",
            "WARNING: Ignoring invalid distribution -illow (c:\\python39\\lib\\site-packages)\n",
            "WARNING: Ignoring invalid distribution -illow (c:\\python39\\lib\\site-packages)\n"
          ]
        },
        {
          "name": "stdout",
          "output_type": "stream",
          "text": [
            "Requirement already satisfied: gym in c:\\python39\\lib\\site-packages (0.26.2)\n",
            "Requirement already satisfied: pyvirtualdisplay in c:\\python39\\lib\\site-packages (3.0)\n",
            "Requirement already satisfied: gym-notices>=0.0.4 in c:\\python39\\lib\\site-packages (from gym) (0.0.8)\n",
            "Requirement already satisfied: importlib-metadata>=4.8.0 in c:\\python39\\lib\\site-packages (from gym) (4.13.0)\n",
            "Requirement already satisfied: cloudpickle>=1.2.0 in c:\\python39\\lib\\site-packages (from gym) (2.2.0)\n",
            "Requirement already satisfied: numpy>=1.18.0 in c:\\python39\\lib\\site-packages (from gym) (1.20.2)\n",
            "Requirement already satisfied: zipp>=0.5 in c:\\python39\\lib\\site-packages (from importlib-metadata>=4.8.0->gym) (3.11.0)\n"
          ]
        },
        {
          "name": "stderr",
          "output_type": "stream",
          "text": [
            "WARNING: Ignoring invalid distribution -illow (c:\\python39\\lib\\site-packages)\n",
            "WARNING: Ignoring invalid distribution -illow (c:\\python39\\lib\\site-packages)\n",
            "WARNING: Ignoring invalid distribution -illow (c:\\python39\\lib\\site-packages)\n",
            "WARNING: Ignoring invalid distribution -illow (c:\\python39\\lib\\site-packages)\n",
            "WARNING: Ignoring invalid distribution -illow (c:\\python39\\lib\\site-packages)\n",
            "WARNING: Ignoring invalid distribution -illow (c:\\python39\\lib\\site-packages)\n"
          ]
        }
      ],
      "source": [
        "!pip install ipywidgets\n",
        "!pip install moviepy\n",
        "!pip install gym pyvirtualdisplay"
      ]
    },
    {
      "cell_type": "code",
      "execution_count": 15,
      "metadata": {},
      "outputs": [
        {
          "name": "stdout",
          "output_type": "stream",
          "text": [
            "Requirement already satisfied: gym in c:\\python39\\lib\\site-packages (0.26.2)\n",
            "Requirement already satisfied: gym-notices>=0.0.4 in c:\\python39\\lib\\site-packages (from gym) (0.0.8)\n",
            "Requirement already satisfied: importlib-metadata>=4.8.0 in c:\\python39\\lib\\site-packages (from gym) (4.13.0)\n",
            "Requirement already satisfied: cloudpickle>=1.2.0 in c:\\python39\\lib\\site-packages (from gym) (2.2.0)\n",
            "Requirement already satisfied: numpy>=1.18.0 in c:\\python39\\lib\\site-packages (from gym) (1.20.2)\n",
            "Requirement already satisfied: zipp>=0.5 in c:\\python39\\lib\\site-packages (from importlib-metadata>=4.8.0->gym) (3.11.0)\n"
          ]
        },
        {
          "name": "stderr",
          "output_type": "stream",
          "text": [
            "WARNING: Ignoring invalid distribution -illow (c:\\python39\\lib\\site-packages)\n",
            "WARNING: Ignoring invalid distribution -illow (c:\\python39\\lib\\site-packages)\n",
            "WARNING: Ignoring invalid distribution -illow (c:\\python39\\lib\\site-packages)\n",
            "WARNING: Ignoring invalid distribution -illow (c:\\python39\\lib\\site-packages)\n",
            "WARNING: Ignoring invalid distribution -illow (c:\\python39\\lib\\site-packages)\n",
            "WARNING: Ignoring invalid distribution -illow (c:\\python39\\lib\\site-packages)\n"
          ]
        }
      ],
      "source": [
        "!pip install gym"
      ]
    },
    {
      "cell_type": "code",
      "execution_count": 1,
      "metadata": {
        "id": "BIedd7Pz9sOs"
      },
      "outputs": [],
      "source": [
        "import gym\n",
        "import highway_env\n",
        "import numpy as np\n",
        "\n",
        "from stable_baselines3 import DDPG, HerReplayBuffer, SAC\n",
        "from stable_baselines3.common.noise import NormalActionNoise\n",
        "from sb3_contrib import TQC"
      ]
    },
    {
      "cell_type": "code",
      "execution_count": 2,
      "metadata": {
        "id": "hAZ4LGxHwKwX"
      },
      "outputs": [],
      "source": [
        "env = gym.make(\"parking-v0\")"
      ]
    },
    {
      "cell_type": "markdown",
      "metadata": {},
      "source": [
        "설치 후 커널 재시작 필요. 재시작 하지 않으면 gym.make에서 오류가 발생합니다."
      ]
    },
    {
      "cell_type": "code",
      "execution_count": 3,
      "metadata": {
        "colab": {
          "base_uri": "https://localhost:8080/"
        },
        "id": "FCLW5cGIZa52",
        "outputId": "e5e4f184-9b08-4d57-b665-2803519738f0"
      },
      "outputs": [
        {
          "name": "stdout",
          "output_type": "stream",
          "text": [
            "Using cpu device\n",
            "Wrapping the env with a `Monitor` wrapper\n",
            "Wrapping the env in a DummyVecEnv.\n"
          ]
        }
      ],
      "source": [
        "n_actions = env.action_space.shape[0]\n",
        "noise_std = 0.2\n",
        "action_noise = NormalActionNoise(mean=np.zeros(n_actions), sigma=noise_std * np.ones(n_actions))\n",
        "goal_selection_strategy = \"future\"\n",
        "\n",
        "\n",
        "model = DDPG('MultiInputPolicy', env, learning_rate=1e-3, buffer_size=int(1e6), batch_size=256, gamma=0.95,\n",
        "        action_noise=action_noise, replay_buffer_class=HerReplayBuffer,  replay_buffer_kwargs=dict(\n",
        "        n_sampled_goal=4,\n",
        "        goal_selection_strategy=goal_selection_strategy,\n",
        "        online_sampling=True,\n",
        "        max_episode_length=100), policy_kwargs=dict(net_arch=[256, 256, 256]), verbose=1)"
      ]
    },
    {
      "cell_type": "code",
      "execution_count": 4,
      "metadata": {
        "colab": {
          "base_uri": "https://localhost:8080/"
        },
        "id": "PXAQeENljBIe",
        "outputId": "430e0b78-6335-4353-fa15-38b0486d2b18"
      },
      "outputs": [
        {
          "name": "stdout",
          "output_type": "stream",
          "text": [
            "---------------------------------\n",
            "| rollout/           |          |\n",
            "|    ep_len_mean     | 114      |\n",
            "|    ep_rew_mean     | -554     |\n",
            "|    success_rate    | 0        |\n",
            "| time/              |          |\n",
            "|    episodes        | 4        |\n",
            "|    fps             | 58       |\n",
            "|    time_elapsed    | 7        |\n",
            "|    total_timesteps | 456      |\n",
            "| train/             |          |\n",
            "|    actor_loss      | 3.42     |\n",
            "|    critic_loss     | 2.58e+03 |\n",
            "|    learning_rate   | 0.001    |\n",
            "|    n_updates       | 179      |\n",
            "---------------------------------\n",
            "---------------------------------\n",
            "| rollout/           |          |\n",
            "|    ep_len_mean     | 68.4     |\n",
            "|    ep_rew_mean     | -531     |\n",
            "|    success_rate    | 0        |\n",
            "| time/              |          |\n",
            "|    episodes        | 8        |\n",
            "|    fps             | 41       |\n",
            "|    time_elapsed    | 13       |\n",
            "|    total_timesteps | 547      |\n",
            "| train/             |          |\n",
            "|    actor_loss      | 2.43     |\n",
            "|    critic_loss     | 734      |\n",
            "|    learning_rate   | 0.001    |\n",
            "|    n_updates       | 457      |\n",
            "---------------------------------\n",
            "---------------------------------\n",
            "| rollout/           |          |\n",
            "|    ep_len_mean     | 163      |\n",
            "|    ep_rew_mean     | -609     |\n",
            "|    success_rate    | 0        |\n",
            "| time/              |          |\n",
            "|    episodes        | 12       |\n",
            "|    fps             | 64       |\n",
            "|    time_elapsed    | 30       |\n",
            "|    total_timesteps | 1956     |\n",
            "| train/             |          |\n",
            "|    actor_loss      | 1.67     |\n",
            "|    critic_loss     | 1.01e+03 |\n",
            "|    learning_rate   | 0.001    |\n",
            "|    n_updates       | 587      |\n",
            "---------------------------------\n"
          ]
        }
      ],
      "source": [
        "model.learn(int(1500))\n",
        "\n",
        "model.save('ddpg_parking_1500')"
      ]
    },
    {
      "cell_type": "code",
      "execution_count": 5,
      "metadata": {
        "colab": {
          "base_uri": "https://localhost:8080/"
        },
        "id": "5o9N-V5FO2v2",
        "outputId": "332c59db-8151-4373-85c3-68d81854764b"
      },
      "outputs": [
        {
          "name": "stdout",
          "output_type": "stream",
          "text": [
            "Wrapping the env with a `Monitor` wrapper\n",
            "Wrapping the env in a DummyVecEnv.\n"
          ]
        }
      ],
      "source": [
        "model = DDPG.load('ddpg_parking_1500', env=env)"
      ]
    },
    {
      "cell_type": "code",
      "execution_count": 6,
      "metadata": {
        "colab": {
          "base_uri": "https://localhost:8080/",
          "height": 1000
        },
        "id": "XjohypRhjEjS",
        "outputId": "2f634b7e-8a96-4392-ae1c-41b3871e3476"
      },
      "outputs": [
        {
          "name": "stdout",
          "output_type": "stream",
          "text": [
            "5000\n"
          ]
        },
        {
          "data": {
            "image/png": "[encoded data removed]",
            "text/plain": [
              "<Figure size 640x480 with 1 Axes>"
            ]
          },
          "metadata": {},
          "output_type": "display_data"
        }
      ],
      "source": [
        "import matplotlib.pyplot as plt\n",
        "%matplotlib inline\n",
        "\n",
        "obs = env.reset()\n",
        "\n",
        "# Evaluate\n",
        "episode_reward = 0\n",
        "rewards = []\n",
        "for n in range(5000):\n",
        "    if len(obs) ==2:\n",
        "        action, _ = model.predict(obs[0], deterministic=True)\n",
        "    elif len(obs) ==3:\n",
        "        action, _ = model.predict(obs, deterministic=True)\n",
        "    obs, reward, done, _, info = env.step(action)\n",
        "    episode_reward += reward\n",
        "\n",
        "    rewards.append(episode_reward)\n",
        "    if done or info.get('is_success', False):\n",
        "        print('\\rEpisode {}\\tReward: {:.2f}'.format(n, episode_reward, end=\"\"), \"\\tSuccess?\", info.get('is_success', False))\n",
        "        episode_reward = 0.0\n",
        "        obs = env.reset()\n",
        "\n",
        "print(len(rewards))\n",
        "fig = plt.figure()\n",
        "ax = fig.add_subplot(111)\n",
        "plt.plot(np.arange(1, len(rewards)+1), rewards)\n",
        "plt.ylabel('Reward')\n",
        "plt.xlabel('Episode')\n",
        "plt.show()"
      ]
    },
    {
      "cell_type": "code",
      "execution_count": 7,
      "metadata": {
        "colab": {
          "base_uri": "https://localhost:8080/"
        },
        "id": "qxAVX41t4XS3",
        "outputId": "ac9ea1ee-3d94-41b0-8ee4-24205046fd7d"
      },
      "outputs": [],
      "source": [
        "from IPython import display as ipythondisplay\n",
        "from pyvirtualdisplay import Display\n",
        "from gym.wrappers import RecordVideo\n",
        "from pathlib import Path\n",
        "import base64\n",
        "from tqdm.notebook import trange\n",
        "\n",
        "def show_video(path):\n",
        "    html = []\n",
        "    for mp4 in Path(path).glob(\"*.mp4\"):\n",
        "        video_b64 = base64.b64encode(mp4.read_bytes())\n",
        "        html.append('''<video alt=\"{}\" autoplay \n",
        "                      loop controls style=\"height: 400px;\">\n",
        "                      <source src=\"data:video/mp4;base64,{}\" type=\"video/mp4\" />\n",
        "                 </video>'''.format(mp4, video_b64.decode('ascii')))\n",
        "    ipythondisplay.display(ipythondisplay.HTML(data=\"<br>\".join(html)))\n",
        "\n"
      ]
    },
    {
      "cell_type": "code",
      "execution_count": null,
      "metadata": {
        "colab": {
          "base_uri": "https://localhost:8080/",
          "height": 1000,
          "referenced_widgets": [
            "539da866df274ec89c671eeba0b704b4",
            "754ea2b290e34703a5c0d27b19e04aec",
            "8759838df8534d34a8255d00439915f8",
            "728bd85a07704b32af4b02aa6b3eb845",
            "fe52a7dfeb28460685b36417b5483b80",
            "570c731cf6474594ad9570f5063350f8",
            "feb78d362a5d476bab3f7729d8f9dd45",
            "53f2d2a8733a4bd48320e89ffc445bed"
          ]
        },
        "id": "82GkruHt4lmt",
        "outputId": "74bedb41-53da-4bf2-b5d0-23b4fdcdc133"
      },
      "outputs": [],
      "source": [
        "env = gym.make(\"parking-v0\")\n",
        "env = RecordVideo(env, video_folder='./videos', episode_trigger=lambda e: True)\n",
        "env.unwrapped.set_record_video_wrapper(env)\n",
        "for episode in trange(10, desc=\"Test episodes\"):\n",
        "    obs, done = env.reset(), False\n",
        "    while not done:\n",
        "        if len(obs) ==2:\n",
        "            action, _ = model.predict(obs[0])\n",
        "        elif len(obs) ==3:\n",
        "            action, _ = model.predict(obs)\n",
        "        obs, reward, done, _, info = env.step(action)\n",
        "env.close()\n",
        "show_video('./video')\n",
        "\n"
      ]
    },
    {
      "cell_type": "markdown",
      "metadata": {},
      "source": [
        "시뮬레이션 시각화 코드"
      ]
    }
  ],
  "metadata": {
    "accelerator": "GPU",
    "colab": {
      "provenance": [],
      "toc_visible": true
    },
    "kernelspec": {
      "display_name": "Python 3.9.2 64-bit",
      "language": "python",
      "name": "python3"
    },
    "language_info": {
      "codemirror_mode": {
        "name": "ipython",
        "version": 3
      },
      "file_extension": ".py",
      "mimetype": "text/x-python",
      "name": "python",
      "nbconvert_exporter": "python",
      "pygments_lexer": "ipython3",
      "version": "3.9.2"
    },
    "vscode": {
      "interpreter": {
        "hash": "81794d4967e6c3204c66dcd87b604927b115b27c00565d3d43f05ba2f3a2cb0d"
      }
    },
    "widgets": {
      "application/vnd.jupyter.widget-state+json": {
        "539da866df274ec89c671eeba0b704b4": {
          "model_module": "@jupyter-widgets/controls",
          "model_module_version": "1.5.0",
          "model_name": "HBoxModel",
          "state": {
            "_dom_classes": [],
            "_model_module": "@jupyter-widgets/controls",
            "_model_module_version": "1.5.0",
            "_model_name": "HBoxModel",
            "_view_count": null,
            "_view_module": "@jupyter-widgets/controls",
            "_view_module_version": "1.5.0",
            "_view_name": "HBoxView",
            "box_style": "",
            "children": [
              "IPY_MODEL_8759838df8534d34a8255d00439915f8",
              "IPY_MODEL_728bd85a07704b32af4b02aa6b3eb845"
            ],
            "layout": "IPY_MODEL_754ea2b290e34703a5c0d27b19e04aec"
          }
        },
        "53f2d2a8733a4bd48320e89ffc445bed": {
          "model_module": "@jupyter-widgets/base",
          "model_module_version": "1.2.0",
          "model_name": "LayoutModel",
          "state": {
            "_model_module": "@jupyter-widgets/base",
            "_model_module_version": "1.2.0",
            "_model_name": "LayoutModel",
            "_view_count": null,
            "_view_module": "@jupyter-widgets/base",
            "_view_module_version": "1.2.0",
            "_view_name": "LayoutView",
            "align_content": null,
            "align_items": null,
            "align_self": null,
            "border": null,
            "bottom": null,
            "display": null,
            "flex": null,
            "flex_flow": null,
            "grid_area": null,
            "grid_auto_columns": null,
            "grid_auto_flow": null,
            "grid_auto_rows": null,
            "grid_column": null,
            "grid_gap": null,
            "grid_row": null,
            "grid_template_areas": null,
            "grid_template_columns": null,
            "grid_template_rows": null,
            "height": null,
            "justify_content": null,
            "justify_items": null,
            "left": null,
            "margin": null,
            "max_height": null,
            "max_width": null,
            "min_height": null,
            "min_width": null,
            "object_fit": null,
            "object_position": null,
            "order": null,
            "overflow": null,
            "overflow_x": null,
            "overflow_y": null,
            "padding": null,
            "right": null,
            "top": null,
            "visibility": null,
            "width": null
          }
        },
        "570c731cf6474594ad9570f5063350f8": {
          "model_module": "@jupyter-widgets/base",
          "model_module_version": "1.2.0",
          "model_name": "LayoutModel",
          "state": {
            "_model_module": "@jupyter-widgets/base",
            "_model_module_version": "1.2.0",
            "_model_name": "LayoutModel",
            "_view_count": null,
            "_view_module": "@jupyter-widgets/base",
            "_view_module_version": "1.2.0",
            "_view_name": "LayoutView",
            "align_content": null,
            "align_items": null,
            "align_self": null,
            "border": null,
            "bottom": null,
            "display": null,
            "flex": null,
            "flex_flow": null,
            "grid_area": null,
            "grid_auto_columns": null,
            "grid_auto_flow": null,
            "grid_auto_rows": null,
            "grid_column": null,
            "grid_gap": null,
            "grid_row": null,
            "grid_template_areas": null,
            "grid_template_columns": null,
            "grid_template_rows": null,
            "height": null,
            "justify_content": null,
            "justify_items": null,
            "left": null,
            "margin": null,
            "max_height": null,
            "max_width": null,
            "min_height": null,
            "min_width": null,
            "object_fit": null,
            "object_position": null,
            "order": null,
            "overflow": null,
            "overflow_x": null,
            "overflow_y": null,
            "padding": null,
            "right": null,
            "top": null,
            "visibility": null,
            "width": null
          }
        },
        "728bd85a07704b32af4b02aa6b3eb845": {
          "model_module": "@jupyter-widgets/controls",
          "model_module_version": "1.5.0",
          "model_name": "HTMLModel",
          "state": {
            "_dom_classes": [],
            "_model_module": "@jupyter-widgets/controls",
            "_model_module_version": "1.5.0",
            "_model_name": "HTMLModel",
            "_view_count": null,
            "_view_module": "@jupyter-widgets/controls",
            "_view_module_version": "1.5.0",
            "_view_name": "HTMLView",
            "description": "",
            "description_tooltip": null,
            "layout": "IPY_MODEL_53f2d2a8733a4bd48320e89ffc445bed",
            "placeholder": "​",
            "style": "IPY_MODEL_feb78d362a5d476bab3f7729d8f9dd45",
            "value": " 3/3 [00:08&lt;00:00,  2.85s/it]"
          }
        },
        "754ea2b290e34703a5c0d27b19e04aec": {
          "model_module": "@jupyter-widgets/base",
          "model_module_version": "1.2.0",
          "model_name": "LayoutModel",
          "state": {
            "_model_module": "@jupyter-widgets/base",
            "_model_module_version": "1.2.0",
            "_model_name": "LayoutModel",
            "_view_count": null,
            "_view_module": "@jupyter-widgets/base",
            "_view_module_version": "1.2.0",
            "_view_name": "LayoutView",
            "align_content": null,
            "align_items": null,
            "align_self": null,
            "border": null,
            "bottom": null,
            "display": null,
            "flex": null,
            "flex_flow": null,
            "grid_area": null,
            "grid_auto_columns": null,
            "grid_auto_flow": null,
            "grid_auto_rows": null,
            "grid_column": null,
            "grid_gap": null,
            "grid_row": null,
            "grid_template_areas": null,
            "grid_template_columns": null,
            "grid_template_rows": null,
            "height": null,
            "justify_content": null,
            "justify_items": null,
            "left": null,
            "margin": null,
            "max_height": null,
            "max_width": null,
            "min_height": null,
            "min_width": null,
            "object_fit": null,
            "object_position": null,
            "order": null,
            "overflow": null,
            "overflow_x": null,
            "overflow_y": null,
            "padding": null,
            "right": null,
            "top": null,
            "visibility": null,
            "width": null
          }
        },
        "8759838df8534d34a8255d00439915f8": {
          "model_module": "@jupyter-widgets/controls",
          "model_module_version": "1.5.0",
          "model_name": "FloatProgressModel",
          "state": {
            "_dom_classes": [],
            "_model_module": "@jupyter-widgets/controls",
            "_model_module_version": "1.5.0",
            "_model_name": "FloatProgressModel",
            "_view_count": null,
            "_view_module": "@jupyter-widgets/controls",
            "_view_module_version": "1.5.0",
            "_view_name": "ProgressView",
            "bar_style": "success",
            "description": "Test episodes: 100%",
            "description_tooltip": null,
            "layout": "IPY_MODEL_570c731cf6474594ad9570f5063350f8",
            "max": 3,
            "min": 0,
            "orientation": "horizontal",
            "style": "IPY_MODEL_fe52a7dfeb28460685b36417b5483b80",
            "value": 3
          }
        },
        "fe52a7dfeb28460685b36417b5483b80": {
          "model_module": "@jupyter-widgets/controls",
          "model_module_version": "1.5.0",
          "model_name": "ProgressStyleModel",
          "state": {
            "_model_module": "@jupyter-widgets/controls",
            "_model_module_version": "1.5.0",
            "_model_name": "ProgressStyleModel",
            "_view_count": null,
            "_view_module": "@jupyter-widgets/base",
            "_view_module_version": "1.2.0",
            "_view_name": "StyleView",
            "bar_color": null,
            "description_width": "initial"
          }
        },
        "feb78d362a5d476bab3f7729d8f9dd45": {
          "model_module": "@jupyter-widgets/controls",
          "model_module_version": "1.5.0",
          "model_name": "DescriptionStyleModel",
          "state": {
            "_model_module": "@jupyter-widgets/controls",
            "_model_module_version": "1.5.0",
            "_model_name": "DescriptionStyleModel",
            "_view_count": null,
            "_view_module": "@jupyter-widgets/base",
            "_view_module_version": "1.2.0",
            "_view_name": "StyleView",
            "description_width": ""
          }
        }
      }
    }
  },
  "nbformat": 4,
  "nbformat_minor": 0
}
