{
 "cells": [
  {
   "cell_type": "code",
   "execution_count": 1,
   "metadata": {},
   "outputs": [
    {
     "name": "stdout",
     "output_type": "stream",
     "text": [
      "C:\\Users\\82104\\AppData\\Roaming\\Python\\Python39\\site-packages\\highway_env\\__init__.py\n",
      "True\n",
      "1.7.1+cu101\n",
      "GeForce GTX 1650 Ti\n"
     ]
    }
   ],
   "source": [
    "# Environment\n",
    "import gym \n",
    "import highway_env\n",
    "import inspect\n",
    "print(inspect.getfile(highway_env))\n",
    "\n",
    "\n",
    "# Models and computation\n",
    "import torch\n",
    "import torch.nn as nn\n",
    "import torch.nn.functional as F\n",
    "import numpy as np\n",
    "from collections import namedtuple\n",
    "# torch.set_default_tensor_type(\"torch.cuda.FloatTensor\")\n",
    "\n",
    " \n",
    "# Visualization\n",
    "import matplotlib\n",
    "import matplotlib.pyplot as plt\n",
    "%matplotlib inline\n",
    "from tqdm.notebook import trange\n",
    "from IPython import display as ipythondisplay\n",
    "from pyvirtualdisplay import Display\n",
    "from gym.wrappers import RecordVideo\n",
    "import base64\n",
    "\n",
    "\n",
    "# IO\n",
    "from pathlib import Path\n",
    "print(torch.cuda.is_available())\n",
    "print(torch.__version__)\n",
    "print(torch.cuda.get_device_name(0)) # CUDA : 10.1\n"
   ]
  },
  {
   "cell_type": "code",
   "execution_count": 2,
   "metadata": {},
   "outputs": [],
   "source": [
    "def show_video(path):\n",
    "    html = []\n",
    "    for mp4 in Path(path).glob(\"*.mp4\"):\n",
    "        video_b64 = base64.b64encode(mp4.read_bytes())\n",
    "        html.append('''<video alt=\"{}\" autoplay \n",
    "                      loop controls style=\"height: 400px;\">\n",
    "                      <source src=\"data:video/mp4;base64,{}\" type=\"video/mp4\" />\n",
    "                 </video>'''.format(mp4, video_b64.decode('ascii')))\n",
    "    ipythondisplay.display(ipythondisplay.HTML(data=\"<br>\".join(html)))"
   ]
  },
  {
   "cell_type": "code",
   "execution_count": 3,
   "metadata": {},
   "outputs": [
    {
     "data": {
      "application/vnd.jupyter.widget-view+json": {
       "model_id": "6d3f2d34a3a443939b0d0e0d4927a7ee",
       "version_major": 2,
       "version_minor": 0
      },
      "text/plain": [
       "Collecting interaction data:   0%|          | 0/1000 [00:00<?, ?it/s]"
      ]
     },
     "metadata": {},
     "output_type": "display_data"
    },
    {
     "name": "stdout",
     "output_type": "stream",
     "text": [
      "Sample transition: Transition(state=tensor([ 0.0000,  0.0000,  0.0000, -0.0000,  0.5255, -0.8508]), action=tensor([-0.9837, -0.6515]), next_state=tensor([-1.8200e-04,  6.3006e-04, -1.0458e-01,  1.6665e-01,  5.3157e-01,\n",
      "        -8.4702e-01]))\n"
     ]
    },
    {
     "data": {
      "text/plain": [
       "4000"
      ]
     },
     "execution_count": 3,
     "metadata": {},
     "output_type": "execute_result"
    }
   ],
   "source": [
    "env = gym.make(\"parking-v0\")\n",
    "\n",
    "Transition = namedtuple('Transition', ['state', 'action', 'next_state'])\n",
    "\n",
    "def collect_interaction_data(env, size=1000, action_repeat=4):\n",
    "    data, done = [], True\n",
    "    for _ in trange(size, desc=\"Collecting interaction data\"): \n",
    "        action = env.action_space.sample()\n",
    "        for _ in range(action_repeat): \n",
    "            previous_obs = env.reset() if done else obs\n",
    "            if isinstance(previous_obs, tuple) :\n",
    "                previous_obs = previous_obs[0]\n",
    "\n",
    "            obs, reward, done, inf1, info2 = env.step(action)\n",
    "            data.append(Transition(torch.Tensor(previous_obs[\"observation\"]),\n",
    "                                   torch.Tensor(action),\n",
    "                                   torch.Tensor(obs[\"observation\"])))\n",
    "    return data\n",
    "\n",
    "data = collect_interaction_data(env)\n",
    "print(\"Sample transition:\", data[0])\n",
    "\n",
    "len(data)"
   ]
  },
  {
   "cell_type": "code",
   "execution_count": 4,
   "metadata": {},
   "outputs": [
    {
     "name": "stdout",
     "output_type": "stream",
     "text": [
      "current state:  tensor([[-0.0550,  0.0527, -1.3609,  0.6808,  0.8943, -0.4474]])\n",
      "predicted next_state:  tensor([[-0.0908, -0.1183, -0.1485,  0.0584, -0.1748, -0.3100]],\n",
      "       grad_fn=<ViewBackward>)\n",
      "input state shape:  torch.Size([1, 6])\n",
      "output state shape:  torch.Size([1, 6])\n"
     ]
    }
   ],
   "source": [
    "class JustModel(nn.Module):\n",
    "\n",
    "    def __init__(self, state_size, action_size, hidden_size):\n",
    "        super().__init__()\n",
    "        self.state_size, self.action_size = state_size, action_size\n",
    "        self.C1 = nn.Linear(state_size+action_size, hidden_size)\n",
    "        self.C2 = nn.Linear(hidden_size, state_size)\n",
    "\n",
    "    def forward(self, x, u):\n",
    "        xu = torch.cat((x, u), -1)\n",
    "        C = self.C2(F.relu(self.C1(xu)))\n",
    "        next_state = torch.reshape(C, (x.shape[0], self.state_size))\n",
    "\n",
    "        return next_state\n",
    "\n",
    "JM = JustModel(state_size=env.observation_space.spaces[\"observation\"].shape[0],\n",
    "                         action_size=env.action_space.shape[0],\n",
    "                         hidden_size=64)\n",
    "\n",
    "next_state = JM.forward(data[10].state.unsqueeze(0), data[10].action.unsqueeze(0).detach())\n",
    "\n",
    "print('current state: ',data[10].state.unsqueeze(0))\n",
    "print('predicted next_state: ', next_state)\n",
    "print('input state shape: ', data[10].state.unsqueeze(0).shape)\n",
    "print('output state shape: ', next_state.shape)"
   ]
  },
  {
   "cell_type": "code",
   "execution_count": 5,
   "metadata": {},
   "outputs": [
    {
     "data": {
      "application/vnd.jupyter.widget-view+json": {
       "model_id": "e4097c7ec40244cdac20d41240b11f04",
       "version_major": 2,
       "version_minor": 0
      },
      "text/plain": [
       "Train JM:   0%|          | 0/1500 [00:00<?, ?it/s]"
      ]
     },
     "metadata": {},
     "output_type": "display_data"
    },
    {
     "data": {
      "image/png": "[encoded data removed]",
      "text/plain": [
       "<Figure size 432x288 with 1 Axes>"
      ]
     },
     "metadata": {
      "needs_background": "light"
     },
     "output_type": "display_data"
    },
    {
     "name": "stdout",
     "output_type": "stream",
     "text": [
      "(1500, 2)\n",
      "(1500,)\n",
      "0.0003042102001366479\n"
     ]
    }
   ],
   "source": [
    "optimizer = torch.optim.Adam(JM.parameters(), lr=0.01)\n",
    "\n",
    "# Split dataset into training and validation\n",
    "train_ratio = 0.7\n",
    "train_data, validation_data = data[:int(train_ratio * len(data))], \\\n",
    "                              data[int(train_ratio * len(data)):]\n",
    "\n",
    "def compute_loss(model, data_t, loss_func = torch.nn.MSELoss()):\n",
    "    states, actions, next_states = data_t\n",
    "    predictions = model(states, actions)\n",
    "    return loss_func(predictions, next_states)\n",
    "\n",
    "def transpose_batch(batch):\n",
    "    return Transition(*map(torch.stack, zip(*batch)))\n",
    "\n",
    "def train(model, train_data, validation_data, epochs=1500):\n",
    "    train_data_t = transpose_batch(train_data)\n",
    "    validation_data_t = transpose_batch(validation_data)\n",
    "    losses = np.full((epochs, 2), np.nan)\n",
    "    for epoch in trange(epochs, desc=\"Train JM\"):\n",
    "        # Compute loss gradient and step optimizer\n",
    "        loss = compute_loss(model, train_data_t)\n",
    "        validation_loss = compute_loss(model, validation_data_t)\n",
    "        losses[epoch] = [loss.detach().numpy(), validation_loss.detach().numpy()]\n",
    "        optimizer.zero_grad()\n",
    "        loss.backward()\n",
    "        optimizer.step()\n",
    "    # Plot losses\n",
    "    plt.plot(losses)\n",
    "    plt.title('Train Result with JM')\n",
    "    plt.yscale(\"log\")\n",
    "    plt.xlabel(\"epochs\")\n",
    "    plt.ylabel(\"loss\")\n",
    "    plt.legend([\"training\", \"validation\"])\n",
    "    plt.show()\n",
    "    \n",
    "    print(losses.shape)\n",
    "    val_los = losses[:,1]\n",
    "    print(val_los.shape)\n",
    "    print(np.average(val_los[1200:1400+1]))\n",
    "train(JM, data, validation_data)"
   ]
  },
  {
   "cell_type": "code",
   "execution_count": 6,
   "metadata": {},
   "outputs": [
    {
     "data": {
      "image/png": "[encoded data removed]",
      "text/plain": [
       "<Figure size 432x288 with 1 Axes>"
      ]
     },
     "metadata": {
      "needs_background": "light"
     },
     "output_type": "display_data"
    }
   ],
   "source": [
    "def predict_trajectory(state, actions, model, action_repeat=1):\n",
    "    states = []\n",
    "    for action in actions:\n",
    "        for _ in range(action_repeat): #1개의 초기 acrion 당 15개의 경로 지점 예상\n",
    "            state = model(state, action)\n",
    "            states.append(state)\n",
    "    return torch.stack(states, dim=0)\n",
    "\n",
    "def plot_trajectory(states, color):\n",
    "    scales = np.array(env.unwrapped.config[\"observation\"][\"scales\"])\n",
    "    states = np.clip(states.squeeze(1).detach().numpy() * scales, -100, 100)\n",
    "    plt.plot(states[:, 0], states[:, 1], color=color, marker='*')\n",
    "    plt.arrow(states[-1,0], states[-1,1], states[-1,4]*1, states[-1,5]*1, color=color)\n",
    "\n",
    "def visualize_trajectories(model, state, horizon=15):\n",
    "    plt.cla()\n",
    "    # Draw a car\n",
    "    plt.plot(state.numpy()[0]+2.5*np.array([-1, -1, 1, 1, -1]),\n",
    "             state.numpy()[1]+1.0*np.array([-1, 1, 1, -1, -1]), 'y') # 자동차 그리는 부분\n",
    "    # Draw trajectories\n",
    "    state = state.unsqueeze(0)\n",
    "    colors = iter(plt.get_cmap(\"tab20\").colors)\n",
    "\n",
    "    # Generate commands\n",
    "    for steering in np.linspace(-0.5, 0.5, 3):\n",
    "        for acceleration in np.linspace(0.8, 0.4, 2): # 초기 action 6가지 경우에 대해\n",
    "\n",
    "            actions = torch.Tensor([acceleration, steering]).view(1,1,-1)\n",
    "            # Predict trajectories\n",
    "            states = predict_trajectory(state, actions, model, action_repeat=horizon)\n",
    "            plot_trajectory(states, color=next(colors))\n",
    "    plt.axis(\"equal\")\n",
    "    plt.show()\n",
    "\n",
    "\n",
    "visualize_trajectories(JM, state=torch.Tensor([0, 0, 0, 0, 1, 0]))"
   ]
  },
  {
   "cell_type": "code",
   "execution_count": 7,
   "metadata": {},
   "outputs": [
    {
     "name": "stdout",
     "output_type": "stream",
     "text": [
      "Reward of a sample transition: tensor([-0.4353])\n",
      "observation:  [0.         0.         0.         0.         0.52138563 0.85332117]\n",
      "desired_goal:  [ 1.000000e-01 -1.400000e-01  0.000000e+00  0.000000e+00  6.123234e-17\n",
      " -1.000000e+00]\n"
     ]
    }
   ],
   "source": [
    "def reward_model(states, goal, gamma=None):\n",
    "    '''\n",
    "    reward = 루트((state-goal) * [1, 0.3, 0, 0, 0.02, 0.02])\n",
    "    '''\n",
    "    goal = goal.expand(states.shape) \n",
    "    reward_weigths = torch.Tensor(env.unwrapped.config[\"reward_weights\"])\n",
    "    rewards = -torch.pow(torch.norm((states-goal)*reward_weigths, p=1, dim=-1), 0.5) # \n",
    "    if gamma:\n",
    "        time = torch.arange(rewards.shape[0], dtype=torch.float).unsqueeze(-1).expand(rewards.shape)\n",
    "        rewards *= torch.pow(gamma, time)\n",
    "    return rewards\n",
    "\n",
    "obs = env.reset()[0]\n",
    "print(\"Reward of a sample transition:\", reward_model(torch.Tensor(obs[\"observation\"]).unsqueeze(0),\n",
    "                                                     torch.Tensor(obs[\"desired_goal\"]), ))\n",
    "\n",
    "print(\"observation: \",obs[\"observation\"])\n",
    "print(\"desired_goal: \",obs[\"desired_goal\"])"
   ]
  },
  {
   "cell_type": "code",
   "execution_count": 8,
   "metadata": {},
   "outputs": [
    {
     "name": "stdout",
     "output_type": "stream",
     "text": [
      "Planned action: tensor([-0.3780,  0.6532])\n"
     ]
    }
   ],
   "source": [
    "# Cross entropy method\n",
    "def cem_planner(state, goal, action_size, horizon=5, population=100, selection=10, iterations=5):\n",
    "    state = state.expand(population, -1)\n",
    "    action_mean = torch.zeros(horizon, 1, action_size)\n",
    "    action_std = torch.ones(horizon, 1, action_size)\n",
    "    for _ in range(iterations):\n",
    "        # 1. Draw sample sequences of actions from a normal distribution\n",
    "        actions = action_mean + action_std * torch.normal(0, 1, size = (horizon, population, action_size))\n",
    "        actions = torch.clamp(actions, min=env.action_space.low.min(), max=env.action_space.high.max())\n",
    "        states = predict_trajectory(state, actions, JM, action_repeat=5)\n",
    "        # 2. Fit the distribution to the top-k performing sequences\n",
    "        returns = reward_model(states, goal).sum(dim=0)\n",
    "        _, best = returns.topk(selection, largest=True, sorted=False)\n",
    "        best_actions = actions[:, best, :]\n",
    "        action_mean, action_std = best_actions.mean(dim=1, keepdim=True), best_actions.std(dim=1, unbiased=False, keepdim=True)\n",
    "    return action_mean[0].squeeze(dim=0)\n",
    "\n",
    "  \n",
    "# Run the planner on a sample transition\n",
    "action = cem_planner(torch.Tensor(obs[\"observation\"]),\n",
    "                     torch.Tensor(obs[\"desired_goal\"]),\n",
    "                     env.action_space.shape[0])\n",
    "print(\"Planned action:\", action)"
   ]
  },
  {
   "cell_type": "code",
   "execution_count": 9,
   "metadata": {},
   "outputs": [
    {
     "name": "stderr",
     "output_type": "stream",
     "text": [
      "C:\\Users\\82104\\AppData\\Roaming\\Python\\Python39\\site-packages\\gym\\wrappers\\record_video.py:75: UserWarning: \u001b[33mWARN: Overwriting existing videos at c:\\Users\\82104\\OneDrive - 성균관대학교\\3-2 (진짜)\\1. 강화학습\\제출한 과제\\기말과제\\videos folder (try specifying a different `video_folder` for the `RecordVideo` wrapper if this is not desired)\u001b[0m\n",
      "  logger.warn(\n",
      "Test episodes:   0%|          | 0/20 [00:00<?, ?it/s]C:\\Users\\82104\\AppData\\Roaming\\Python\\Python39\\site-packages\\gym\\wrappers\\monitoring\\video_recorder.py:59: UserWarning: \u001b[33mWARN: Disabling video recorder because environment <OrderEnforcing<PassiveEnvChecker<ParkingEnv<parking-v0>>>> was not initialized with any compatible video mode between `rgb_array` and `rgb_array_list`\u001b[0m\n",
      "  logger.warn(\n",
      "C:\\Users\\82104\\AppData\\Roaming\\Python\\Python39\\site-packages\\gym\\utils\\passive_env_checker.py:289: UserWarning: \u001b[33mWARN: No render fps was declared in the environment (env.metadata['render_fps'] is None or not defined), rendering may occur at inconsistent fps.\u001b[0m\n",
      "  logger.warn(\n",
      "Test episodes:   5%|▌         | 1/20 [00:02<00:55,  2.92s/it]C:\\Users\\82104\\AppData\\Roaming\\Python\\Python39\\site-packages\\gym\\wrappers\\monitoring\\video_recorder.py:59: UserWarning: \u001b[33mWARN: Disabling video recorder because environment <OrderEnforcing<PassiveEnvChecker<ParkingEnv<parking-v0>>>> was not initialized with any compatible video mode between `rgb_array` and `rgb_array_list`\u001b[0m\n",
      "  logger.warn(\n",
      "Test episodes: 100%|██████████| 20/20 [01:31<00:00,  4.58s/it]\n"
     ]
    },
    {
     "data": {
      "text/html": [],
      "text/plain": [
       "<IPython.core.display.HTML object>"
      ]
     },
     "metadata": {},
     "output_type": "display_data"
    }
   ],
   "source": [
    "from tqdm import trange\n",
    "\n",
    "env = gym.make(\"parking-v0\")\n",
    "# env.configure({\"vehicles_count\": 10})\n",
    "env = RecordVideo(env, video_folder='./videos', episode_trigger=lambda e: True)\n",
    "env.unwrapped.set_record_video_wrapper(env)\n",
    "for episode in trange(20, desc=\"Test episodes\"):\n",
    "    obs, done = env.reset(), False\n",
    "    t = 0\n",
    "    while ((not done) and (t <70)) :\n",
    "        if len(obs) == 2:\n",
    "            action = cem_planner(torch.Tensor(obs[0][\"observation\"]),\n",
    "                            torch.Tensor(obs[0][\"desired_goal\"]),\n",
    "                            env.action_space.shape[0])\n",
    "        elif len(obs) ==3:\n",
    "            action = cem_planner(torch.Tensor(obs[\"observation\"]),\n",
    "                            torch.Tensor(obs[\"desired_goal\"]),\n",
    "                            env.action_space.shape[0])\n",
    "        obs, reward, done, info, _ = env.step(action.numpy())\n",
    "        t = t+1\n",
    "\n",
    "env.close()\n",
    "show_video('./video')"
   ]
  }
 ],
 "metadata": {
  "kernelspec": {
   "display_name": "Python 3.9.4 ('DLpytorch')",
   "language": "python",
   "name": "python3"
  },
  "language_info": {
   "codemirror_mode": {
    "name": "ipython",
    "version": 3
   },
   "file_extension": ".py",
   "mimetype": "text/x-python",
   "name": "python",
   "nbconvert_exporter": "python",
   "pygments_lexer": "ipython3",
   "version": "3.9.4"
  },
  "orig_nbformat": 4,
  "vscode": {
   "interpreter": {
    "hash": "419b923b9a192f39ee4b0883a8cf9d981110b1ab06025867dff42a5d298bcb91"
   }
  }
 },
 "nbformat": 4,
 "nbformat_minor": 2
}
